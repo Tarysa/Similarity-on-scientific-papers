{
 "cells": [
  {
   "cell_type": "code",
   "execution_count": 1,
   "id": "2828fb80",
   "metadata": {},
   "outputs": [
    {
     "name": "stdout",
     "output_type": "stream",
     "text": [
      "C:\\Users\\thoma\\LDA-similarity-Project-\\Notebook\\..\\Class\\..\\Notebook\\new_mallet\\mallet-2.0.8\n"
     ]
    }
   ],
   "source": [
    "import sys\n",
    "import os\n",
    "current_path = os.path.abspath(os.getcwd())\n",
    "sys.path.append(os.path.join(current_path, os.pardir, 'Class'))\n",
    "\n",
    "from Dataset_function import *\n",
    "from Preprocess import *\n",
    "from TopicModel import *\n",
    "from LdaAnalysis import *"
   ]
  },
  {
   "cell_type": "code",
   "execution_count": 2,
   "id": "4a79f816",
   "metadata": {},
   "outputs": [],
   "source": [
    "body_1 = Preprocessing1('body_1')\n",
    "body_1.load('Saved Data/body_1.pickle')\n",
    "\n",
    "abstract_1 = Preprocessing1('abstract_1')\n",
    "abstract_1.load('Saved Data/abstract_1.pickle')"
   ]
  },
  {
   "cell_type": "code",
   "execution_count": 3,
   "id": "700fb8a3",
   "metadata": {},
   "outputs": [
    {
     "name": "stdout",
     "output_type": "stream",
     "text": [
      "Time to train LDA model : 8105.367341995239 sec\n",
      "UMass Coherence of the model : -0.9414162375440086\n",
      "CV Coherence of the model : 0.4263264668372712\n"
     ]
    }
   ],
   "source": [
    "final_lda_body1 = LDAMallet(\"final_lda_body1\", body_1, num_topics = 102)\n",
    "final_lda_body1.train(50000)\n",
    "final_lda_body1.save('Saved Data')"
   ]
  },
  {
   "cell_type": "code",
   "execution_count": 4,
   "id": "286526a9",
   "metadata": {},
   "outputs": [
    {
     "name": "stdout",
     "output_type": "stream",
     "text": [
      "Time to train LDA model : 4754.708264350891 sec\n",
      "UMass Coherence of the model : -3.29573599735839\n",
      "CV Coherence of the model : 0.3573084626802642\n"
     ]
    }
   ],
   "source": [
    "final_lda_abstract1_v1 = LDAMallet(\"final_lda_abstract1_v1\", abstract_1, num_topics = 36)\n",
    "final_lda_abstract1_v1.train(100000)\n",
    "final_lda_abstract1_v1.save('Saved Data')"
   ]
  },
  {
   "cell_type": "code",
   "execution_count": 3,
   "id": "3058e6be",
   "metadata": {},
   "outputs": [],
   "source": [
    "lda_abstract = LDAMallet(\"final_lda_abstract1_v1\", abstract_1)\n",
    "lda_abstract.load('Saved Data/final_lda_abstract1_v1.pickle')"
   ]
  },
  {
   "cell_type": "code",
   "execution_count": 4,
   "id": "9269f161",
   "metadata": {},
   "outputs": [
    {
     "ename": "CalledProcessError",
     "evalue": "Command 'C:\\Users\\thoma\\LDA-similarity-Project-\\Notebook\\..\\Class\\..\\Notebook\\new_mallet\\mallet-2.0.8\\bin\\mallet import-file --preserve-case --keep-sequence --remove-stopwords --token-regex \"\\S+\" --input C:\\Users\\thoma\\AppData\\Local\\Temp\\450716_corpus.txt --output C:\\Users\\thoma\\AppData\\Local\\Temp\\450716_corpus.mallet.infer --use-pipe-from C:\\Users\\thoma\\AppData\\Local\\Temp\\450716_corpus.mallet' returned non-zero exit status 1.",
     "output_type": "error",
     "traceback": [
      "\u001b[1;31m---------------------------------------------------------------------------\u001b[0m",
      "\u001b[1;31mCalledProcessError\u001b[0m                        Traceback (most recent call last)",
      "\u001b[1;32m~\\AppData\\Local\\Temp/ipykernel_13048/2831991917.py\u001b[0m in \u001b[0;36m<module>\u001b[1;34m\u001b[0m\n\u001b[1;32m----> 1\u001b[1;33m \u001b[0mlda_abstract\u001b[0m\u001b[1;33m.\u001b[0m\u001b[0mcompute_document_Topic_Distribution\u001b[0m\u001b[1;33m(\u001b[0m\u001b[1;33m)\u001b[0m\u001b[1;33m\u001b[0m\u001b[1;33m\u001b[0m\u001b[0m\n\u001b[0m\u001b[0;32m      2\u001b[0m \u001b[0mprint\u001b[0m\u001b[1;33m(\u001b[0m\u001b[0mlda_abstract\u001b[0m\u001b[1;33m.\u001b[0m\u001b[0mget_document_Topic_Distribution\u001b[0m\u001b[1;33m(\u001b[0m\u001b[1;33m)\u001b[0m\u001b[1;33m[\u001b[0m\u001b[1;36m0\u001b[0m\u001b[1;33m]\u001b[0m\u001b[1;33m)\u001b[0m\u001b[1;33m\u001b[0m\u001b[1;33m\u001b[0m\u001b[0m\n",
      "\u001b[1;32m~\\LDA-similarity-Project-\\Notebook\\..\\Class\\TopicModel.py\u001b[0m in \u001b[0;36mcompute_document_Topic_Distribution\u001b[1;34m(self)\u001b[0m\n\u001b[0;32m    460\u001b[0m     \u001b[1;32mdef\u001b[0m \u001b[0mcompute_document_Topic_Distribution\u001b[0m\u001b[1;33m(\u001b[0m\u001b[0mself\u001b[0m\u001b[1;33m)\u001b[0m\u001b[1;33m:\u001b[0m\u001b[1;33m\u001b[0m\u001b[1;33m\u001b[0m\u001b[0m\n\u001b[0;32m    461\u001b[0m         \u001b[1;34m\"\"\"Computation of the document topic distribution\"\"\"\u001b[0m\u001b[1;33m\u001b[0m\u001b[1;33m\u001b[0m\u001b[0m\n\u001b[1;32m--> 462\u001b[1;33m         \u001b[0mself\u001b[0m\u001b[1;33m.\u001b[0m\u001b[0mdocumentTopicDistribution\u001b[0m \u001b[1;33m=\u001b[0m \u001b[1;33m[\u001b[0m\u001b[1;33m[\u001b[0m\u001b[0melem\u001b[0m\u001b[1;33m[\u001b[0m\u001b[1;36m1\u001b[0m\u001b[1;33m]\u001b[0m \u001b[1;32mfor\u001b[0m \u001b[0melem\u001b[0m \u001b[1;32min\u001b[0m \u001b[0mdoc\u001b[0m\u001b[1;33m]\u001b[0m\u001b[1;32mfor\u001b[0m \u001b[0mdoc\u001b[0m \u001b[1;32min\u001b[0m \u001b[0mself\u001b[0m\u001b[1;33m.\u001b[0m\u001b[0mmodel\u001b[0m\u001b[1;33m[\u001b[0m\u001b[0mself\u001b[0m\u001b[1;33m.\u001b[0m\u001b[0mpreprocessing\u001b[0m\u001b[1;33m.\u001b[0m\u001b[0mget_BoW\u001b[0m\u001b[1;33m(\u001b[0m\u001b[1;33m)\u001b[0m\u001b[1;33m]\u001b[0m\u001b[1;33m]\u001b[0m\u001b[1;33m\u001b[0m\u001b[1;33m\u001b[0m\u001b[0m\n\u001b[0m\u001b[0;32m    463\u001b[0m \u001b[1;33m\u001b[0m\u001b[0m\n\u001b[0;32m    464\u001b[0m     \u001b[1;32mdef\u001b[0m \u001b[0mcompute_Word_Topic_Distribution\u001b[0m\u001b[1;33m(\u001b[0m\u001b[0mself\u001b[0m\u001b[1;33m)\u001b[0m\u001b[1;33m:\u001b[0m\u001b[1;33m\u001b[0m\u001b[1;33m\u001b[0m\u001b[0m\n",
      "\u001b[1;32mc:\\users\\thoma\\lda-similarity-project-\\env\\lib\\site-packages\\gensim\\models\\wrappers\\ldamallet.py\u001b[0m in \u001b[0;36m__getitem__\u001b[1;34m(self, bow, iterations)\u001b[0m\n\u001b[0;32m    312\u001b[0m             \u001b[0mbow\u001b[0m \u001b[1;33m=\u001b[0m \u001b[1;33m[\u001b[0m\u001b[0mbow\u001b[0m\u001b[1;33m]\u001b[0m\u001b[1;33m\u001b[0m\u001b[1;33m\u001b[0m\u001b[0m\n\u001b[0;32m    313\u001b[0m \u001b[1;33m\u001b[0m\u001b[0m\n\u001b[1;32m--> 314\u001b[1;33m         \u001b[0mself\u001b[0m\u001b[1;33m.\u001b[0m\u001b[0mconvert_input\u001b[0m\u001b[1;33m(\u001b[0m\u001b[0mbow\u001b[0m\u001b[1;33m,\u001b[0m \u001b[0minfer\u001b[0m\u001b[1;33m=\u001b[0m\u001b[1;32mTrue\u001b[0m\u001b[1;33m)\u001b[0m\u001b[1;33m\u001b[0m\u001b[1;33m\u001b[0m\u001b[0m\n\u001b[0m\u001b[0;32m    315\u001b[0m         \u001b[0mcmd\u001b[0m \u001b[1;33m=\u001b[0m\u001b[0;31m \u001b[0m\u001b[0;31m\\\u001b[0m\u001b[1;33m\u001b[0m\u001b[1;33m\u001b[0m\u001b[0m\n\u001b[0;32m    316\u001b[0m             \u001b[0mself\u001b[0m\u001b[1;33m.\u001b[0m\u001b[0mmallet_path\u001b[0m \u001b[1;33m+\u001b[0m \u001b[1;34m' infer-topics --input %s --inferencer %s '\u001b[0m\u001b[0;31m \u001b[0m\u001b[0;31m\\\u001b[0m\u001b[1;33m\u001b[0m\u001b[1;33m\u001b[0m\u001b[0m\n",
      "\u001b[1;32mc:\\users\\thoma\\lda-similarity-project-\\env\\lib\\site-packages\\gensim\\models\\wrappers\\ldamallet.py\u001b[0m in \u001b[0;36mconvert_input\u001b[1;34m(self, corpus, infer, serialize_corpus)\u001b[0m\n\u001b[0;32m    259\u001b[0m             \u001b[0mcmd\u001b[0m \u001b[1;33m=\u001b[0m \u001b[0mcmd\u001b[0m \u001b[1;33m%\u001b[0m \u001b[1;33m(\u001b[0m\u001b[0mself\u001b[0m\u001b[1;33m.\u001b[0m\u001b[0mfcorpustxt\u001b[0m\u001b[1;33m(\u001b[0m\u001b[1;33m)\u001b[0m\u001b[1;33m,\u001b[0m \u001b[0mself\u001b[0m\u001b[1;33m.\u001b[0m\u001b[0mfcorpusmallet\u001b[0m\u001b[1;33m(\u001b[0m\u001b[1;33m)\u001b[0m\u001b[1;33m)\u001b[0m\u001b[1;33m\u001b[0m\u001b[1;33m\u001b[0m\u001b[0m\n\u001b[0;32m    260\u001b[0m         \u001b[0mlogger\u001b[0m\u001b[1;33m.\u001b[0m\u001b[0minfo\u001b[0m\u001b[1;33m(\u001b[0m\u001b[1;34m\"converting temporary corpus to MALLET format with %s\"\u001b[0m\u001b[1;33m,\u001b[0m \u001b[0mcmd\u001b[0m\u001b[1;33m)\u001b[0m\u001b[1;33m\u001b[0m\u001b[1;33m\u001b[0m\u001b[0m\n\u001b[1;32m--> 261\u001b[1;33m         \u001b[0mcheck_output\u001b[0m\u001b[1;33m(\u001b[0m\u001b[0margs\u001b[0m\u001b[1;33m=\u001b[0m\u001b[0mcmd\u001b[0m\u001b[1;33m,\u001b[0m \u001b[0mshell\u001b[0m\u001b[1;33m=\u001b[0m\u001b[1;32mTrue\u001b[0m\u001b[1;33m)\u001b[0m\u001b[1;33m\u001b[0m\u001b[1;33m\u001b[0m\u001b[0m\n\u001b[0m\u001b[0;32m    262\u001b[0m \u001b[1;33m\u001b[0m\u001b[0m\n\u001b[0;32m    263\u001b[0m     \u001b[1;32mdef\u001b[0m \u001b[0mtrain\u001b[0m\u001b[1;33m(\u001b[0m\u001b[0mself\u001b[0m\u001b[1;33m,\u001b[0m \u001b[0mcorpus\u001b[0m\u001b[1;33m)\u001b[0m\u001b[1;33m:\u001b[0m\u001b[1;33m\u001b[0m\u001b[1;33m\u001b[0m\u001b[0m\n",
      "\u001b[1;32mc:\\users\\thoma\\lda-similarity-project-\\env\\lib\\site-packages\\gensim\\utils.py\u001b[0m in \u001b[0;36mcheck_output\u001b[1;34m(stdout, *popenargs, **kwargs)\u001b[0m\n\u001b[0;32m   1930\u001b[0m             \u001b[0merror\u001b[0m \u001b[1;33m=\u001b[0m \u001b[0msubprocess\u001b[0m\u001b[1;33m.\u001b[0m\u001b[0mCalledProcessError\u001b[0m\u001b[1;33m(\u001b[0m\u001b[0mretcode\u001b[0m\u001b[1;33m,\u001b[0m \u001b[0mcmd\u001b[0m\u001b[1;33m)\u001b[0m\u001b[1;33m\u001b[0m\u001b[1;33m\u001b[0m\u001b[0m\n\u001b[0;32m   1931\u001b[0m             \u001b[0merror\u001b[0m\u001b[1;33m.\u001b[0m\u001b[0moutput\u001b[0m \u001b[1;33m=\u001b[0m \u001b[0moutput\u001b[0m\u001b[1;33m\u001b[0m\u001b[1;33m\u001b[0m\u001b[0m\n\u001b[1;32m-> 1932\u001b[1;33m             \u001b[1;32mraise\u001b[0m \u001b[0merror\u001b[0m\u001b[1;33m\u001b[0m\u001b[1;33m\u001b[0m\u001b[0m\n\u001b[0m\u001b[0;32m   1933\u001b[0m         \u001b[1;32mreturn\u001b[0m \u001b[0moutput\u001b[0m\u001b[1;33m\u001b[0m\u001b[1;33m\u001b[0m\u001b[0m\n\u001b[0;32m   1934\u001b[0m     \u001b[1;32mexcept\u001b[0m \u001b[0mKeyboardInterrupt\u001b[0m\u001b[1;33m:\u001b[0m\u001b[1;33m\u001b[0m\u001b[1;33m\u001b[0m\u001b[0m\n",
      "\u001b[1;31mCalledProcessError\u001b[0m: Command 'C:\\Users\\thoma\\LDA-similarity-Project-\\Notebook\\..\\Class\\..\\Notebook\\new_mallet\\mallet-2.0.8\\bin\\mallet import-file --preserve-case --keep-sequence --remove-stopwords --token-regex \"\\S+\" --input C:\\Users\\thoma\\AppData\\Local\\Temp\\450716_corpus.txt --output C:\\Users\\thoma\\AppData\\Local\\Temp\\450716_corpus.mallet.infer --use-pipe-from C:\\Users\\thoma\\AppData\\Local\\Temp\\450716_corpus.mallet' returned non-zero exit status 1."
     ]
    }
   ],
   "source": [
    "lda_abstract.compute_document_Topic_Distribution()\n",
    "print(lda_abstract.get_document_Topic_Distribution()[0])"
   ]
  },
  {
   "cell_type": "code",
   "execution_count": null,
   "id": "6c5798c1",
   "metadata": {},
   "outputs": [],
   "source": [
    "final_lda_abstract1_v1.compute_document_Topic_Distribution()\n",
    "final_lda_abstract1_v1.save('Saved Data')"
   ]
  },
  {
   "cell_type": "code",
   "execution_count": null,
   "id": "2533addf",
   "metadata": {},
   "outputs": [],
   "source": [
    "final_lda_body1.compute_document_Topic_Distribution()\n",
    "final_lda_body1.save('Saved Data')"
   ]
  },
  {
   "cell_type": "code",
   "execution_count": null,
   "id": "76321c0c",
   "metadata": {},
   "outputs": [],
   "source": []
  }
 ],
 "metadata": {
  "kernelspec": {
   "display_name": "Python 3 (ipykernel)",
   "language": "python",
   "name": "python3"
  },
  "language_info": {
   "codemirror_mode": {
    "name": "ipython",
    "version": 3
   },
   "file_extension": ".py",
   "mimetype": "text/x-python",
   "name": "python",
   "nbconvert_exporter": "python",
   "pygments_lexer": "ipython3",
   "version": "3.9.6"
  }
 },
 "nbformat": 4,
 "nbformat_minor": 5
}
