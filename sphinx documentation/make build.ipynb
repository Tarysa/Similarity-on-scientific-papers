{
 "cells": [
  {
   "cell_type": "code",
   "execution_count": 2,
   "id": "3ff58a7c",
   "metadata": {},
   "outputs": [
    {
     "name": "stderr",
     "output_type": "stream",
     "text": [
      "WARNING: sphinx_rtd_theme (< 0.3.0) found. It will not be available since Sphinx-6.0\n",
      "\n",
      "Theme error:\n",
      "no theme named 'sphinx_rtd_theme' found (missing theme.conf?)\n"
     ]
    },
    {
     "name": "stdout",
     "output_type": "stream",
     "text": [
      "Running Sphinx v4.1.2\n",
      "loading pickled environment... failed\n",
      "failed: source directory has changed\n"
     ]
    }
   ],
   "source": [
    "!make html"
   ]
  },
  {
   "cell_type": "code",
   "execution_count": 24,
   "id": "a8a10284",
   "metadata": {},
   "outputs": [
    {
     "name": "stdout",
     "output_type": "stream",
     "text": [
      "Currently running servers:\r\n",
      "http://localhost:8888/?token=fef0074bad7a545280a4405bab83be8b8e18ebbb80416b96 :: /home/stsapoui/Project/LDA-similarity-Project-\r\n"
     ]
    }
   ],
   "source": [
    "!jupyter notebook list\n"
   ]
  },
  {
   "cell_type": "code",
   "execution_count": 14,
   "id": "674c4d17",
   "metadata": {},
   "outputs": [
    {
     "name": "stdout",
     "output_type": "stream",
     "text": [
      "/home/stsapoui/Project/LDA-similarity-Project-/POO Notebook/LDA_similarity\r\n"
     ]
    }
   ],
   "source": [
    "!pwd"
   ]
  },
  {
   "cell_type": "code",
   "execution_count": 16,
   "id": "ea8e9289",
   "metadata": {},
   "outputs": [],
   "source": [
    "!cd ../.."
   ]
  },
  {
   "cell_type": "code",
   "execution_count": 20,
   "id": "acd9ca61",
   "metadata": {},
   "outputs": [
    {
     "name": "stdout",
     "output_type": "stream",
     "text": [
      "/home/stsapoui/Project/LDA-similarity-Project-/POO Notebook/LDA_similarity\r\n"
     ]
    }
   ],
   "source": [
    "!pwd"
   ]
  },
  {
   "cell_type": "code",
   "execution_count": 19,
   "id": "56214626",
   "metadata": {},
   "outputs": [],
   "source": [
    "! cd .."
   ]
  },
  {
   "cell_type": "code",
   "execution_count": null,
   "id": "d19107e9",
   "metadata": {},
   "outputs": [],
   "source": []
  },
  {
   "cell_type": "code",
   "execution_count": null,
   "id": "ee6d2ba2",
   "metadata": {},
   "outputs": [],
   "source": []
  }
 ],
 "metadata": {
  "kernelspec": {
   "display_name": "Python 3 (ipykernel)",
   "language": "python",
   "name": "python3"
  },
  "language_info": {
   "codemirror_mode": {
    "name": "ipython",
    "version": 3
   },
   "file_extension": ".py",
   "mimetype": "text/x-python",
   "name": "python",
   "nbconvert_exporter": "python",
   "pygments_lexer": "ipython3",
   "version": "3.9.6"
  }
 },
 "nbformat": 4,
 "nbformat_minor": 5
}
