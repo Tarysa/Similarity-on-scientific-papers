{
 "cells": [
  {
   "cell_type": "code",
   "execution_count": 1,
   "id": "3ff58a7c",
   "metadata": {},
   "outputs": [
    {
     "name": "stdout",
     "output_type": "stream",
     "text": [
      "\u001b[01mRunning Sphinx v4.1.2\u001b[39;49;00m\n",
      "\u001b[01mloading pickled environment... \u001b[39;49;00mfailed\n",
      "failed: source directory has changed\n",
      "\u001b[01mbuilding [mo]: \u001b[39;49;00mtargets for 0 po files that are out of date\n",
      "\u001b[01mbuilding [html]: \u001b[39;49;00mtargets for 8 source files that are out of date\n",
      "\u001b[01mupdating environment: \u001b[39;49;00m[new config] 8 added, 0 changed, 0 removed\n",
      "/home/stsapoui/Project/env/lib/python3.8/site-packages/past/builtins/misc.py:45: DeprecationWarning: the imp module is deprecated in favour of importlib; see the module's documentation for alternative uses\n",
      "  from imp import reload\n",
      "\u001b[01mreading sources... \u001b[39;49;00m[100%] \u001b[35mindex\u001b[39;49;00m                                                 \n",
      "\u001b[91m/home/stsapoui/Project/LDA-similarity-Project-/Class/LdaAnalysis.py:docstring of LdaAnalysis.grid_search:7: WARNING: Field list ends without a blank line; unexpected unindent.\u001b[39;49;00m\n",
      "\u001b[31m/home/stsapoui/Project/LDA-similarity-Project-/Class/Similarity.py:docstring of Similarity.Similarity.evaluation2:4: WARNING: Unexpected indentation.\u001b[39;49;00m\n",
      "\u001b[91m/home/stsapoui/Project/LDA-similarity-Project-/Class/Similarity.py:docstring of Similarity.SimilarityV2.topic_translation:7: WARNING: Block quote ends without a blank line; unexpected unindent.\u001b[39;49;00m\n",
      "\u001b[91mWARNING: autodoc: failed to import module 'app'; the following exception was raised:\n",
      "Traceback (most recent call last):\n",
      "  File \"/home/stsapoui/Project/env/lib/python3.8/site-packages/sphinx/ext/autodoc/importer.py\", line 70, in import_module\n",
      "    return importlib.import_module(modname)\n",
      "  File \"/usr/lib/python3.8/importlib/__init__.py\", line 127, in import_module\n",
      "    return _bootstrap._gcd_import(name[level:], package, level)\n",
      "  File \"<frozen importlib._bootstrap>\", line 1014, in _gcd_import\n",
      "  File \"<frozen importlib._bootstrap>\", line 991, in _find_and_load\n",
      "  File \"<frozen importlib._bootstrap>\", line 975, in _find_and_load_unlocked\n",
      "  File \"<frozen importlib._bootstrap>\", line 671, in _load_unlocked\n",
      "  File \"<frozen importlib._bootstrap_external>\", line 848, in exec_module\n",
      "  File \"<frozen importlib._bootstrap>\", line 219, in _call_with_frames_removed\n",
      "  File \"/home/stsapoui/Project/LDA-similarity-Project-/application/app.py\", line 11, in <module>\n",
      "    from model_run import model_run\n",
      "  File \"/home/stsapoui/Project/LDA-similarity-Project-/application/model_run.py\", line 15, in <module>\n",
      "    abstract = 'static/uploaded_file/abstracts/' + os.listdir('static/uploaded_file/abstracts/')[0]\n",
      "FileNotFoundError: [Errno 2] No such file or directory: 'static/uploaded_file/abstracts/'\n",
      "\u001b[39;49;00m\n",
      "\u001b[91m/home/stsapoui/Project/LDA-similarity-Project-/sphinx documentation/doc/index.rst:7: WARNING: Title underline too short.\n",
      "\n",
      "Welcome to LDA Similarity documentation!\n",
      "======================================\u001b[39;49;00m\n",
      "\u001b[91m/home/stsapoui/Project/LDA-similarity-Project-/sphinx documentation/doc/index.rst:11: WARNING: toctree contains reference to nonexisting document '.. toctree::'\u001b[39;49;00m\n",
      "\u001b[91m/home/stsapoui/Project/LDA-similarity-Project-/sphinx documentation/doc/index.rst:11: WARNING: toctree contains reference to nonexisting document '   :maxdepth: 10'\u001b[39;49;00m\n",
      "\u001b[91m/home/stsapoui/Project/LDA-similarity-Project-/sphinx documentation/doc/index.rst:11: WARNING: toctree contains reference to nonexisting document '   :caption: Module:'\u001b[39;49;00m\n",
      "\u001b[91m/home/stsapoui/Project/LDA-similarity-Project-/sphinx documentation/doc/index.rst:11: WARNING: toctree contains reference to nonexisting document '   ./Dataset_function'\u001b[39;49;00m\n",
      "\u001b[91m/home/stsapoui/Project/LDA-similarity-Project-/sphinx documentation/doc/index.rst:11: WARNING: toctree contains reference to nonexisting document '   ./Preprocess'\u001b[39;49;00m\n",
      "\u001b[91m/home/stsapoui/Project/LDA-similarity-Project-/sphinx documentation/doc/index.rst:11: WARNING: toctree contains reference to nonexisting document '   ./TopicModel'\u001b[39;49;00m\n",
      "\u001b[91m/home/stsapoui/Project/LDA-similarity-Project-/sphinx documentation/doc/index.rst:11: WARNING: toctree contains reference to nonexisting document '   ./Inference'\u001b[39;49;00m\n",
      "\u001b[91m/home/stsapoui/Project/LDA-similarity-Project-/sphinx documentation/doc/index.rst:11: WARNING: toctree contains reference to nonexisting document '   ./Similarity'\u001b[39;49;00m\n",
      "\u001b[91m/home/stsapoui/Project/LDA-similarity-Project-/sphinx documentation/doc/index.rst:11: WARNING: toctree contains reference to nonexisting document '   ./LdaAnalysis'\u001b[39;49;00m\n",
      "\u001b[91m/home/stsapoui/Project/LDA-similarity-Project-/sphinx documentation/doc/index.rst:11: WARNING: toctree contains reference to nonexisting document '.. toctree::'\u001b[39;49;00m\n",
      "\u001b[91m/home/stsapoui/Project/LDA-similarity-Project-/sphinx documentation/doc/index.rst:11: WARNING: toctree contains reference to nonexisting document '   :maxdepth: 10'\u001b[39;49;00m\n",
      "\u001b[91m/home/stsapoui/Project/LDA-similarity-Project-/sphinx documentation/doc/index.rst:11: WARNING: toctree contains reference to nonexisting document '   :caption: Application:'\u001b[39;49;00m\n",
      "\u001b[91m/home/stsapoui/Project/LDA-similarity-Project-/sphinx documentation/doc/index.rst:11: WARNING: toctree contains reference to nonexisting document '   ./app'\u001b[39;49;00m\n",
      "\u001b[01mlooking for now-outdated files... \u001b[39;49;00mnone found\n",
      "\u001b[01mpickling environment... \u001b[39;49;00mdone\n",
      "\u001b[01mchecking consistency... \u001b[39;49;00m\u001b[91m/home/stsapoui/Project/LDA-similarity-Project-/sphinx documentation/doc/Dataset_function.rst: WARNING: document isn't included in any toctree\u001b[39;49;00m\n",
      "\u001b[91m/home/stsapoui/Project/LDA-similarity-Project-/sphinx documentation/doc/Inference.rst: WARNING: document isn't included in any toctree\u001b[39;49;00m\n",
      "\u001b[91m/home/stsapoui/Project/LDA-similarity-Project-/sphinx documentation/doc/LdaAnalysis.rst: WARNING: document isn't included in any toctree\u001b[39;49;00m\n",
      "\u001b[91m/home/stsapoui/Project/LDA-similarity-Project-/sphinx documentation/doc/Preprocess.rst: WARNING: document isn't included in any toctree\u001b[39;49;00m\n",
      "\u001b[91m/home/stsapoui/Project/LDA-similarity-Project-/sphinx documentation/doc/Similarity.rst: WARNING: document isn't included in any toctree\u001b[39;49;00m\n",
      "\u001b[91m/home/stsapoui/Project/LDA-similarity-Project-/sphinx documentation/doc/TopicModel.rst: WARNING: document isn't included in any toctree\u001b[39;49;00m\n",
      "\u001b[91m/home/stsapoui/Project/LDA-similarity-Project-/sphinx documentation/doc/app.rst: WARNING: document isn't included in any toctree\u001b[39;49;00m\n",
      "done\n",
      "\u001b[01mpreparing documents... \u001b[39;49;00mdone\n",
      "\u001b[01mwriting output... \u001b[39;49;00m[100%] \u001b[32mindex\u001b[39;49;00m                                                  \n",
      "\u001b[01mgenerating indices... \u001b[39;49;00mgenindex py-modindex done\n",
      "\u001b[01mwriting additional pages... \u001b[39;49;00msearch done\n",
      "\u001b[01mcopying static files... \u001b[39;49;00mdone\n",
      "\u001b[01mcopying extra files... \u001b[39;49;00mdone\n",
      "\u001b[01mdumping search index in English (code: en)... \u001b[39;49;00mdone\n",
      "\u001b[01mdumping object inventory... \u001b[39;49;00mdone\n",
      "\u001b[01mbuild succeeded, 25 warnings.\u001b[39;49;00m\n",
      "\n",
      "The HTML pages are in build/html.\n"
     ]
    }
   ],
   "source": [
    "!make html"
   ]
  },
  {
   "cell_type": "code",
   "execution_count": 24,
   "id": "a8a10284",
   "metadata": {},
   "outputs": [
    {
     "name": "stdout",
     "output_type": "stream",
     "text": [
      "Currently running servers:\r\n",
      "http://localhost:8888/?token=fef0074bad7a545280a4405bab83be8b8e18ebbb80416b96 :: /home/stsapoui/Project/LDA-similarity-Project-\r\n"
     ]
    }
   ],
   "source": [
    "!jupyter notebook list\n"
   ]
  },
  {
   "cell_type": "code",
   "execution_count": 14,
   "id": "674c4d17",
   "metadata": {},
   "outputs": [
    {
     "name": "stdout",
     "output_type": "stream",
     "text": [
      "/home/stsapoui/Project/LDA-similarity-Project-/POO Notebook/LDA_similarity\r\n"
     ]
    }
   ],
   "source": [
    "!pwd"
   ]
  },
  {
   "cell_type": "code",
   "execution_count": 16,
   "id": "ea8e9289",
   "metadata": {},
   "outputs": [],
   "source": [
    "!cd ../.."
   ]
  },
  {
   "cell_type": "code",
   "execution_count": 20,
   "id": "acd9ca61",
   "metadata": {},
   "outputs": [
    {
     "name": "stdout",
     "output_type": "stream",
     "text": [
      "/home/stsapoui/Project/LDA-similarity-Project-/POO Notebook/LDA_similarity\r\n"
     ]
    }
   ],
   "source": [
    "!pwd"
   ]
  },
  {
   "cell_type": "code",
   "execution_count": 19,
   "id": "56214626",
   "metadata": {},
   "outputs": [],
   "source": [
    "! cd .."
   ]
  },
  {
   "cell_type": "code",
   "execution_count": null,
   "id": "d19107e9",
   "metadata": {},
   "outputs": [],
   "source": []
  },
  {
   "cell_type": "code",
   "execution_count": null,
   "id": "ee6d2ba2",
   "metadata": {},
   "outputs": [],
   "source": []
  }
 ],
 "metadata": {
  "kernelspec": {
   "display_name": "Python 3 (ipykernel)",
   "language": "python",
   "name": "python3"
  },
  "language_info": {
   "codemirror_mode": {
    "name": "ipython",
    "version": 3
   },
   "file_extension": ".py",
   "mimetype": "text/x-python",
   "name": "python",
   "nbconvert_exporter": "python",
   "pygments_lexer": "ipython3",
   "version": "3.8.10"
  }
 },
 "nbformat": 4,
 "nbformat_minor": 5
}
